{
 "cells": [
  {
   "cell_type": "markdown",
   "id": "8c841997-3724-4b91-b1a6-3c53962ce8fc",
   "metadata": {},
   "source": [
    "# Quiz 6 (04/24)\n",
    "Name: ___________________"
   ]
  },
  {
   "cell_type": "markdown",
   "id": "1519834f-4d1f-4b83-8fb3-d7dcaef80dd4",
   "metadata": {},
   "source": [
    "### Problem 1\n",
    "Answer 2 of the following 3 questions (your choice). DO NOT answer all three. Please indicate which problem you solve next to the solution.\n",
    "1. You are given a matrix in the following CSC (Compressed Sparse Column) format. What would it look like as a dense matrix? (draw me a picture, you may assume the matrix has 4 rows)\n",
    "```\n",
    "    nzval  = [5,-2,-4,5,-3,-1,-2,-10,7,9]   \n",
    "    rowval = [1,3,4,2,1,3,1,4,1,3]          \n",
    "    colptr = [1,4,5,7,9,11]                 \n",
    "```\n",
    "2. Write Julia code to create the following matrix as a sparse matrix using \\texttt{SparseArrays}. Do not create the dense matrix or incrementally insert elements into an existing sparse matrix.\n",
    "$$\n",
    "\\begin{bmatrix}\n",
    "    0 & 1 & 6 & 0 & 0\\\\\n",
    "    2 & 0 & 0 & 1 & 0\\\\\n",
    "    0 & 3 & 0 & 0 & 7\n",
    "\\end{bmatrix}\n",
    "$$\n",
    "3. Write a line of Mathematica to solve the following differential equation: $S'(t) = aS(t) + bt$ with initial condition $S(0) = c$.\n",
    "\n",
    "**Solutions:**"
   ]
  },
  {
   "cell_type": "markdown",
   "id": "3a13b49a-46bd-44db-b444-1c2cd8fa1f0b",
   "metadata": {},
   "source": [
    "<br><br><br><br><br><br><br>"
   ]
  },
  {
   "cell_type": "markdown",
   "id": "be4a565e-d5bb-4aec-a1cb-03ca1545e005",
   "metadata": {},
   "source": [
    "<br><br><br><br><br><br><br>\n",
    "### Graph Laplacian\n",
    "\n",
    "There is a mathematical construction that generalizes the idea of the discrete Laplacian to any sort of graph. Consider a (non-directed) graph $G$ with vertices $V$. Let $N(v)$ be the set of vertices that are adjacent to $v$, i.e. if $v'\\in N(v)$ then there is an edge connecting $v$ and $v'$. Let $f:V\\to \\mathbb{R}$ be a function on the vertices of the graph. The graph laplacian of $f$, which we denote $\\Delta_G[f]$, is also a function of the vertices of the graph. It is defined by \n",
    "$$\\Delta_G[f](v) = \\sum_{v'\\in N(v)} f(v)-f(v').$$"
   ]
  },
  {
   "cell_type": "markdown",
   "id": "c8063844-ecac-41e6-90f8-182897048f89",
   "metadata": {},
   "source": [
    "You are given the following representation of a graph."
   ]
  },
  {
   "cell_type": "code",
   "execution_count": null,
   "id": "e1f4d3f9-f411-4f89-89f5-a0434e04e851",
   "metadata": {},
   "outputs": [],
   "source": [
    "struct Vertex\n",
    "    neighbors::Vector{Int}       # Indices of neighbors of this Vertex \n",
    "end\n",
    "\n",
    "struct Graph\n",
    "    vertices::Vector{Vertex}\n",
    "end"
   ]
  },
  {
   "cell_type": "markdown",
   "id": "75dc8e57-e953-4b10-9f8b-34ea88f11717",
   "metadata": {},
   "source": [
    "Write a function `graph_laplacian(G,f)` that computes $\\Delta_G[f]$, i.e. **returns a function** that has one input (a vertex, $v$ [which has type `Vertex`]) and outputs $\\Delta_G[f](v)$."
   ]
  },
  {
   "cell_type": "code",
   "execution_count": null,
   "id": "84b50aa6-30ef-4503-88c1-c9773c8d8c03",
   "metadata": {},
   "outputs": [],
   "source": [
    "function graph_laplacian(G::Graph, f)"
   ]
  },
  {
   "cell_type": "markdown",
   "id": "20baf241-0f25-4022-a5a7-12dd50359230",
   "metadata": {},
   "source": [
    "<br><br><br><br><br><br>"
   ]
  }
 ],
 "metadata": {
  "kernelspec": {
   "display_name": "Julia 1.9.2",
   "language": "julia",
   "name": "julia-1.9"
  },
  "language_info": {
   "file_extension": ".jl",
   "mimetype": "application/julia",
   "name": "julia",
   "version": "1.9.2"
  }
 },
 "nbformat": 4,
 "nbformat_minor": 5
}
