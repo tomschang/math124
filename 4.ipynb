{
 "cells": [
  {
   "cell_type": "markdown",
   "id": "bbc6c820-cc74-4c59-bf9f-b1c0dc481e85",
   "metadata": {},
   "source": [
    "# Debugging/Testing\n",
    "\n",
    "Julia has straightforward methods for [testing your code](https://docs.julialang.org/en/v1/stdlib/Test/)."
   ]
  },
  {
   "cell_type": "code",
   "execution_count": 1,
   "id": "601b8a9b-d546-4a5d-8304-8f7216c5a893",
   "metadata": {},
   "outputs": [
    {
     "data": {
      "text/plain": [
       "\u001b[32m\u001b[1mTest Passed\u001b[22m\u001b[39m\n",
       "      Thrown: String"
      ]
     },
     "execution_count": 1,
     "metadata": {},
     "output_type": "execute_result"
    }
   ],
   "source": [
    "using Test\n",
    "\n",
    "@test true\n",
    "@test_throws \"unimplemented\" throw(\"unimplemented\")"
   ]
  },
  {
   "cell_type": "markdown",
   "id": "a6c4e44d-104c-4329-9212-fbcdac98db14",
   "metadata": {},
   "source": [
    "### TDD\n",
    "\n",
    "One strategy for developing code with fewer bugs is [test-driven development (TDD)](https://courses.cs.cornell.edu/cs3110/2021sp/textbook/data/tdd.html).\n",
    "The principle is to always have working code, and make it do more and more things correct. The workflow is \n",
    "\n",
    "1. Write a failing test.\n",
    "2. Make the test pass.\n",
    "3. Clean up the code.\n",
    "\n",
    "Here's a quick demo. Let's play the game \"FizzBuzz,\" which is to loop through the first 100 numbers, printing \"Fizz\" if the number is divisible by 3, \"Buzz\" if the number is divisible by 5, \"FizzBuzz\" if it is divisible by both, and just the number if neither."
   ]
  },
  {
   "cell_type": "code",
   "execution_count": 12,
   "id": "95408783-370c-4e39-a0bc-a171266b4416",
   "metadata": {},
   "outputs": [
    {
     "name": "stdout",
     "output_type": "stream",
     "text": [
      "\u001b[0m\u001b[1mTest Summary:  | \u001b[22m\u001b[32m\u001b[1mPass  \u001b[22m\u001b[39m\u001b[36m\u001b[1mTotal  \u001b[22m\u001b[39m\u001b[0m\u001b[1mTime\u001b[22m\n",
      "multiples of 3 | \u001b[32m  27  \u001b[39m\u001b[36m   27  \u001b[39m\u001b[0m0.1s\n",
      "\u001b[0m\u001b[1mTest Summary:  | \u001b[22m\u001b[32m\u001b[1mPass  \u001b[22m\u001b[39m\u001b[36m\u001b[1mTotal  \u001b[22m\u001b[39m\u001b[0m\u001b[1mTime\u001b[22m\n",
      "multiples of 5 | \u001b[32m  14  \u001b[39m\u001b[36m   14  \u001b[39m\u001b[0m0.0s\n",
      "\u001b[0m\u001b[1mTest Summary:        | \u001b[22m\u001b[32m\u001b[1mPass  \u001b[22m\u001b[39m\u001b[36m\u001b[1mTotal  \u001b[22m\u001b[39m\u001b[0m\u001b[1mTime\u001b[22m\n",
      "multiples of 3 and 5 | \u001b[32m   6  \u001b[39m\u001b[36m    6  \u001b[39m\u001b[0m0.0s\n"
     ]
    },
    {
     "data": {
      "text/plain": [
       "Test.DefaultTestSet(\"multiples of 3 and 5\", Any[], 6, false, false, true, 1.707345229699355e9, 1.707345229742367e9, false)"
      ]
     },
     "execution_count": 12,
     "metadata": {},
     "output_type": "execute_result"
    }
   ],
   "source": [
    "\"\"\"\n",
    "    fizz_buzz(n)\n",
    "\n",
    "Creates the string output for a positive integer `n` according to the rules of FizzBuzz.\n",
    "\n",
    "Throws an `ArgumentError` if `n` is 0 or negative.\n",
    "\"\"\"\n",
    "function fizz_buzz(n)\n",
    "    if n ≤ 0 \n",
    "        throw(ArgumentError(\"\"))\n",
    "    end\n",
    "    if n % 3 == 0 && n % 5 == 0 \n",
    "        return \"FizzBuzz\"\n",
    "    end\n",
    "    if n % 3 == 0 \n",
    "        return \"Fizz\"\n",
    "    end\n",
    "    if n % 5 == 0 \n",
    "        return \"Buzz\"\n",
    "    end\n",
    "    return string(n)\n",
    "end\n",
    "\n",
    "@test fizz_buzz(1) == \"1\"\n",
    "@test fizz_buzz(3) == \"Fizz\"\n",
    "@test fizz_buzz(5) == \"Buzz\"\n",
    "\n",
    "@test_throws ArgumentError fizz_buzz(-1) \n",
    "\n",
    "@testset \"multiples of 3\" begin\n",
    "    for i in [x for x in 3:3:100 if x % 5 ≠ 0 ]\n",
    "        @test fizz_buzz(i) == \"Fizz\"\n",
    "    end\n",
    "end\n",
    "\n",
    "@testset \"multiples of 5\" begin\n",
    "    for i in [x for x in 5:5:100 if x % 3 ≠ 0]\n",
    "        @test fizz_buzz(i) == \"Buzz\"\n",
    "    end\n",
    "end\n",
    "\n",
    "@testset \"multiples of 3 and 5\" begin\n",
    "    for i in [x for x in 5:5:100 if x % 3 == 0]\n",
    "        @test fizz_buzz(i) == \"FizzBuzz\"\n",
    "    end\n",
    "end\n"
   ]
  },
  {
   "cell_type": "markdown",
   "id": "ea5ac64b-629a-4864-a414-3d401241dedb",
   "metadata": {},
   "source": [
    "# Random Numbers\n",
    "\n",
    "We will learn how to implement [rejection sampling](https://en.wikipedia.org/wiki/Rejection_sampling#Algorithm). The basic idea of the algorithm is to draw samples from a larger distribution, and then to accept or reject those samples in a way that generates your desired distribution. We will also explore the subtlety of defining random variables.\n",
    "\n",
    "### Exercise 1\n",
    "1. Create a function that draws $n$ random samples uniformly distributed inside the unit square.\n",
    "2. Now, create a function that draws $n$ random samples uniformly distributed inside the unit circle, where uniform means that the distribution is the same as uniformly over the square, but you only care about the points in the circle.\n",
    "3. Create a function that draws $n$ random samples uniformly distributed inside the unit circle, except this time, choose points by uniformly picking a radius and an angle.\n",
    "4. Plot histograms of the radius for (2) and (3). What do you notice? Why do the histograms look this way? Which aligns with your intuition about what uniformly distributed should be?"
   ]
  },
  {
   "cell_type": "code",
   "execution_count": 5,
   "id": "fe98f2ff-233d-4024-a234-0ceff31fbafc",
   "metadata": {},
   "outputs": [
    {
     "data": {
      "text/plain": [
       "sample_square_2 (generic function with 1 method)"
      ]
     },
     "execution_count": 5,
     "metadata": {},
     "output_type": "execute_result"
    }
   ],
   "source": [
    "function sample_square_once()\n",
    "    x = 2 * rand() - 1\n",
    "    y = 2 * rand() - 1\n",
    "    return [x, y]\n",
    "end\n",
    "\n",
    "function sample_square_1(n)\n",
    "    x = zeros(n)\n",
    "    y = zeros(n)\n",
    "    for i = 1:n\n",
    "        xi, yi = sample_square_once()\n",
    "        x[i] = xi\n",
    "        y[i] = yi\n",
    "    end\n",
    "    return x, y\n",
    "end   \n",
    "\n",
    "function sample_square_2(n)\n",
    "    return [sample_square_once() for _ in 1:n]\n",
    "end"
   ]
  },
  {
   "cell_type": "code",
   "execution_count": 6,
   "id": "3ce848cb-eab9-442b-ab17-d40ce63b581b",
   "metadata": {},
   "outputs": [
    {
     "data": {
      "text/plain": [
       "sample_circle_1 (generic function with 1 method)"
      ]
     },
     "execution_count": 6,
     "metadata": {},
     "output_type": "execute_result"
    }
   ],
   "source": [
    "function sample_circle_once()\n",
    "    while true\n",
    "        x, y  = sample_square_once()\n",
    "        if x^2 + y^2 ≤ 1\n",
    "            return [x, y]\n",
    "        end\n",
    "    end\n",
    "end\n",
    "\n",
    "function sample_circle_2(n)\n",
    "    return [sample_circle_once() for _ in 1:n]\n",
    "end\n",
    "\n",
    "function sample_circle_1(n)\n",
    "    x = zeros(n)\n",
    "    y = zeros(n)\n",
    "    for i = 1:n\n",
    "        xi, yi = sample_circle_once()\n",
    "        x[i] = xi\n",
    "        y[i] = yi\n",
    "    end\n",
    "    return x, y\n",
    "end"
   ]
  },
  {
   "cell_type": "markdown",
   "id": "af2f1837-4b09-42cd-a7fa-60a60bf6f91e",
   "metadata": {},
   "source": [
    "Instead of repeating a lot of code, we can abstract away the common parts so that we only write it once."
   ]
  },
  {
   "cell_type": "code",
   "execution_count": 18,
   "id": "06299d0d-c8d0-44ff-bef9-1fa40d6aa10d",
   "metadata": {},
   "outputs": [
    {
     "data": {
      "text/plain": [
       "sample_circle_easy (generic function with 1 method)"
      ]
     },
     "execution_count": 18,
     "metadata": {},
     "output_type": "execute_result"
    }
   ],
   "source": [
    "function sample_many(sampler, n)\n",
    "    x = zeros(n)\n",
    "    y = zeros(n)\n",
    "    for i = 1:n\n",
    "        xi, yi = sampler()\n",
    "        x[i] = xi\n",
    "        y[i] = yi\n",
    "    end\n",
    "    return x, y\n",
    "end\n",
    "\n",
    "sample_square_easy(n) = sample_many(sample_square_once, n)\n",
    "sample_circle_easy(n) = sample_many(sample_circle_once, n)"
   ]
  },
  {
   "cell_type": "code",
   "execution_count": 7,
   "id": "105a4d13-3a33-4137-936b-32ac30e05f6f",
   "metadata": {},
   "outputs": [
    {
     "data": {
      "text/plain": [
       "sample_circle_weird (generic function with 1 method)"
      ]
     },
     "execution_count": 7,
     "metadata": {},
     "output_type": "execute_result"
    }
   ],
   "source": [
    "function sample_circle_weird(n)\n",
    "    function convert(v)\n",
    "        return [cos(v[2]), sin(v[2])] * v[1]\n",
    "    end\n",
    "    return convert.([[rand(), 2*pi*rand()] for _ in 1:n])\n",
    "end"
   ]
  },
  {
   "cell_type": "code",
   "execution_count": 9,
   "id": "11085974-3839-44f6-930f-ebd1cc01aec2",
   "metadata": {},
   "outputs": [
    {
     "data": {
      "image/png": "[encoded data removed]",
      "text/plain": [
       "Figure(PyObject <Figure size 640x480 with 1 Axes>)"
      ]
     },
     "metadata": {},
     "output_type": "display_data"
    },
    {
     "data": {
      "image/png": "[encoded data removed]",
      "text/plain": [
       "Figure(PyObject <Figure size 640x480 with 1 Axes>)"
      ]
     },
     "metadata": {},
     "output_type": "display_data"
    }
   ],
   "source": [
    "using LinearAlgebra\n",
    "radius = norm\n",
    "using PyPlot\n",
    "\n",
    "weird_samples = sample_circle_weird(10000)\n",
    "normal_samples = sample_circle_2(10000)\n",
    "\n",
    "weird_r = radius.(weird_samples)\n",
    "normal_r = radius.(normal_samples)\n",
    "\n",
    "figure(1)\n",
    "hist(weird_r, 10);\n",
    "\n",
    "figure(2)\n",
    "hist(normal_r, 10);"
   ]
  },
  {
   "cell_type": "markdown",
   "id": "5cc5c00c-ff77-4977-9a40-4f6d38709d20",
   "metadata": {},
   "source": [
    "### Exercise 2\n",
    "\n",
    "Suppose you want to draw from a distribution who's probability density is a downwards parabola over the interval $[-10,-6]$, i.e. $$p(x) = \\frac{-(x+10)(x+6)}{Z}$$\n",
    "where $Z$ is an appropriate normalizing constant.\n",
    "\n",
    "1. Compute $Z$.\n",
    "2. Implement rejection sampling, and verify that your distribution is correct by plotting the histogram for $1000$ samples.\n",
    "3. Suppose you win $f(x) = |x|$ dollars for drawing $x$. About how many dollars would you pay to play one round of this game? Estimate using Monte-Carlo simulation."
   ]
  },
  {
   "cell_type": "markdown",
   "id": "d5d4b12e-c76e-4dab-b30c-a8b3afd6ea05",
   "metadata": {},
   "source": [
    "### Challenge\n",
    "\n",
    "Write a function that draws from the standard normal distribution using only `rand` for the randomness (i.e. without using `randn`). One good strategy is to use the central limit theorem (see [here](https://bjlkeng.io/posts/sampling-from-a-normal-distribution/))."
   ]
  },
  {
   "cell_type": "code",
   "execution_count": null,
   "id": "11dfb90b-bee3-4176-893e-7d93723b85cb",
   "metadata": {},
   "outputs": [],
   "source": []
  }
 ],
 "metadata": {
  "kernelspec": {
   "display_name": "Julia 1.9.2",
   "language": "julia",
   "name": "julia-1.9"
  },
  "language_info": {
   "file_extension": ".jl",
   "mimetype": "application/julia",
   "name": "julia",
   "version": "1.9.2"
  }
 },
 "nbformat": 4,
 "nbformat_minor": 5
}
