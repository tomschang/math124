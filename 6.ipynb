{
 "cells": [
  {
   "cell_type": "markdown",
   "id": "56df265f-f5d3-4634-b6d6-9226649178ca",
   "metadata": {},
   "source": [
    "# Data types\n",
    "1. Rational\n",
    "2. Complex\n",
    "3. High-precision\n",
    "\n",
    "# Linear algebra\n",
    "1. Solving linear systems/left divide\n",
    "2. Special matrices (tridiagonal, identity, etc)\n",
    "\n",
    "## Remembering how things work"
   ]
  },
  {
   "cell_type": "code",
   "execution_count": 1,
   "id": "d3531a60-462b-45a8-beb7-6d1a0b2d6256",
   "metadata": {},
   "outputs": [
    {
     "data": {
      "text/plain": [
       "2×2 Matrix{Int64}:\n",
       " 5   7\n",
       " 1  -3"
      ]
     },
     "execution_count": 1,
     "metadata": {},
     "output_type": "execute_result"
    }
   ],
   "source": [
    "A = [1 2; 3 4]\n",
    "B = [5 7; 1 -3]"
   ]
  },
  {
   "cell_type": "code",
   "execution_count": 2,
   "id": "676f2fdd-7f04-4a34-8244-a831964e5ee3",
   "metadata": {},
   "outputs": [
    {
     "data": {
      "text/plain": [
       "Float64"
      ]
     },
     "execution_count": 2,
     "metadata": {},
     "output_type": "execute_result"
    }
   ],
   "source": [
    "typeof(1/3)"
   ]
  },
  {
   "cell_type": "code",
   "execution_count": 3,
   "id": "bf1683bd-1d5e-4632-831a-d7b452db9866",
   "metadata": {},
   "outputs": [
    {
     "data": {
      "text/plain": [
       "2×2 Matrix{Float64}:\n",
       " -9.0  -17.0\n",
       "  7.0   12.0"
      ]
     },
     "execution_count": 3,
     "metadata": {},
     "output_type": "execute_result"
    }
   ],
   "source": [
    "X = A \\ B   # casts to Floats"
   ]
  },
  {
   "cell_type": "code",
   "execution_count": 4,
   "id": "07a9a7f9-a0d8-4dc8-bb18-310cb046bd44",
   "metadata": {},
   "outputs": [
    {
     "data": {
      "text/plain": [
       "false"
      ]
     },
     "execution_count": 4,
     "metadata": {},
     "output_type": "execute_result"
    }
   ],
   "source": [
    "A * X == B"
   ]
  },
  {
   "cell_type": "code",
   "execution_count": 5,
   "id": "5076b506-9f9d-4e77-ab9a-19e0e1d05fe6",
   "metadata": {},
   "outputs": [
    {
     "data": {
      "text/plain": [
       "true"
      ]
     },
     "execution_count": 5,
     "metadata": {},
     "output_type": "execute_result"
    }
   ],
   "source": [
    "A * X ≈ B"
   ]
  },
  {
   "cell_type": "code",
   "execution_count": 6,
   "id": "e343721d-366b-41d7-b8c6-dfb6daa4fa1f",
   "metadata": {},
   "outputs": [
    {
     "data": {
      "text/plain": [
       "2×2 Matrix{Rational{Int64}}:\n",
       " -9//1  -17//1\n",
       "  7//1   12//1"
      ]
     },
     "execution_count": 6,
     "metadata": {},
     "output_type": "execute_result"
    }
   ],
   "source": [
    "Br = Rational.(B)\n",
    "Ar = Rational.(A)\n",
    "Xr = Ar \\ Br"
   ]
  },
  {
   "cell_type": "code",
   "execution_count": 7,
   "id": "24fc5764-51b8-46c4-a5b9-588ae9352f23",
   "metadata": {},
   "outputs": [
    {
     "data": {
      "text/plain": [
       "true"
      ]
     },
     "execution_count": 7,
     "metadata": {},
     "output_type": "execute_result"
    }
   ],
   "source": [
    "Ar * Xr == Br"
   ]
  },
  {
   "cell_type": "markdown",
   "id": "27a7a1cb-3364-4d86-8aa3-f0f22d63d276",
   "metadata": {},
   "source": [
    "# Exercises\n",
    "<!-- exercise: implement Gram-Schmidt in order to perform QR factorization on a matrix\n",
    "exercise: something like solving the heat equation or something else with a tridiagonal matrix\n",
    "exercise: something with high orders of convergence that requires bigs\n",
    "exercise: implement partial fraction decomposition\n",
    "exercise: angle identities using complex?\n",
    "exercise: contour integrals? -->\n",
    "## Integrating rational functions\n",
    "Throughout this exercise, we will be working with polynomials and so we have to settle on a good representation. Since polynomials can always be factorized over $\\mathbb{C}$, we will identify polyonmials by their __factors__, i.e. $p(x) = (x-a_1)(x-a_2)\\ldots(x-a_k)$ is represented by the tuple \n",
    "`\n",
    "p = (a_1, a_2, ..., a_k)\n",
    "`."
   ]
  },
  {
   "cell_type": "markdown",
   "id": "71e00e76-732a-4faf-9d01-3ea6ebc09547",
   "metadata": {},
   "source": [
    "### Part 1\n",
    "Implement [polynomial long division](https://en.wikipedia.org/wiki/Polynomial_long_division). Specifically, given two polynomials $p(x)$ and $q(x)$, we can write \n",
    "$$p(x) = q(x) * d(x) + r(x)$$\n",
    "where $\\deg(r)<\\deg(q)$. \n",
    "\n",
    "1. Your code should accept two polynomials, $p$ and $q$, and compute the polynomials $d$ and $r$.\n",
    "2. _Hint_: can you set up a linear algebra problem to solve this?"
   ]
  },
  {
   "cell_type": "markdown",
   "id": "a8f72a90-9a2d-4394-9cc1-c10c3e3ff1a5",
   "metadata": {},
   "source": [
    "### Part 2\n",
    "Implement polynomial integration. Your code should accept a polynomial $p$ as well as left and right endpoints $x_0$ and $x_1$ and it should compute \n",
    "$$\\int_{x_0}^{x_1} p(x) \\mathrm{d} x$$ \n",
    "exactly."
   ]
  },
  {
   "cell_type": "markdown",
   "id": "9b034adf-aa07-417d-bfff-e93289c3bf0b",
   "metadata": {},
   "source": [
    "### Part 3\n",
    "Next, implement [partial fraction decomposition](https://en.wikipedia.org/wiki/Partial_fraction_decomposition) using _complex rational_ numbers. Specifically, given two polynomials $p(x)$ and $q(x)$ with $\\deg(p)<\\deg(q)$, we can write \n",
    "$$ \\frac{p(x)}{q(x)} = \\frac{c_1}{(x-a_1)}+\\ldots +\\frac{c_2}{(x-a_2)}.$$\n",
    "\n",
    "1. Your code should accept two polynomials, $p$ and $q$, and compute the coefficients $c_i$.\n",
    "2. _Hint_: start with the case where all factors of $q$ are distinct, then figure out the case where there are repeated factors.\n",
    "3. _Hint_: can you set up a linear algebra problem to solve this?"
   ]
  },
  {
   "cell_type": "markdown",
   "id": "ed33b6c4-d81f-4036-a5f9-c21dea3dc195",
   "metadata": {},
   "source": [
    "### Part 4\n",
    "Implement rational integration. Your code should accept a simple rational a coefficient $c$ and a root $a$ as well as left and right endpoints $x_0$ and $x_1$ and it should compute \n",
    "$$\\int_{x_0}^{x_1} \\frac{c}{x-a} \\mathrm{d} x$$\n",
    "exactly.\n",
    "\n",
    "1. There may be problems when $a$ is real and $x_0<a<x_1$. You can start ignore this case. If you want to address it, try implementing the Cauchy principal value."
   ]
  },
  {
   "cell_type": "markdown",
   "id": "3c430987-90c2-4ec4-b8fd-92941973a0ac",
   "metadata": {},
   "source": [
    "### Part 5\n",
    "Combine polynomial long division and partial fraction decomposition to simplify any rational function for integration. Specifically, given any polynomials $p$ and $q$, find polynomial $e$ and coefficients $c_i$ such that \n",
    "$$\\frac{p(x)}{q(x)} = e(x) + \\frac{c_1}{(x-a_1)} +\\ldots +\\frac{c_k}{(x-a_k)}$$\n",
    "where $a_i$ are the roots of $q$."
   ]
  },
  {
   "cell_type": "markdown",
   "id": "a01d85ec-7fb4-4a5b-8bea-1b249d8e398f",
   "metadata": {},
   "source": [
    "### Part 6: \n",
    "Put parts 1-5 together to compute any integral of the form \n",
    "$$\\int_{x_0}^{x_1} \\frac{p(x)}{q(x)}\\mathrm{d} x.$$\n",
    "\n",
    "1. Modify your code so that it supports arbitrary precision computing."
   ]
  },
  {
   "cell_type": "markdown",
   "id": "58debbe9-c3f4-4ac5-8e35-b49f74e2d200",
   "metadata": {},
   "source": [
    "### Part 7\n",
    "Test your code.\n",
    "\n",
    "1. Plot the integral of $$\\frac{1}{1+x^2}$$ for $x_0=0$ and multiple values of $x_1$. What does the curve look like? Is this what you expected?\n",
    "2. Compute $\\pi$ to 25 digits using the above integral and two endpoints of your choice.\n",
    "3. How good are [Pade approximants](https://en.wikipedia.org/wiki/Padé_approximant)? Pade approximants are like Taylor series, but using rational functions instead of polynomials. The degree (2,2) Pade approximation of $e^x$ is $$f(x) = \\frac{1+\\frac{x}{2}+\\frac{x^2}{9}}{1-\\frac{x}{2}+\\frac{x^2}{9}}.$$ Assess the quality of the approximation by plotting (1) $f(x)$ and (2) $1 + \\int_0^x f(y)\\mathrm{d} y$. "
   ]
  },
  {
   "cell_type": "markdown",
   "id": "83f2776b-25bd-4e15-b731-548c8d2ea438",
   "metadata": {},
   "source": [
    "## Numerical integration, convergence rates, arbitrary precision\n",
    "\n",
    "The standard strategy for numerical integration is to use a quadrature rule. You already learned some quadrature rules when you learned about Riemann integration:\n",
    "\n",
    "1. Left endpoint: we approximate $$\\int_a^b f(x)\\mathrm{d} x \\approx I_h(f)= h\\sum_{j=0}^{N-1}f(x_j)$$ where $x_j=a+hj$ and $h=\\frac{b-a}{N}$.\n",
    "2. Midpoint: $$\\int_a^b f(x)\\mathrm{d} x \\approx I_h(f)=h\\sum_{j=0}^{N-1}f(x_{j+1/2})$$ where $x_{j+1/2} = a +hj + \\frac{h}{2}$.\n",
    "\n",
    "### Part 1\n",
    "Code up the left endpoint and midpoint quadrature schemes. Your code should have the signatures\n",
    "```julia\n",
    "function left_endpoint_quadrature(f, a, b, N)\n",
    "    # code here\n",
    "end\n",
    "```\n",
    "and \n",
    "```julia\n",
    "function midpoint_quadrature(f, a, b, N)\n",
    "    # code here\n",
    "end\n",
    "```\n",
    "\n",
    "### Part 2 \n",
    "Test your code by computing the integral of $\\sin^2$ on $[0,2\\pi]$. Do this for multiple values of $N$, and create a log-log plot of error of the integral vs $N$.\n",
    "\n",
    "### Part 3\n",
    "Here is a high-order quadrature rule to approximate an integral on $[0,1]$:\n",
    "$$\\int_{-1}^1 f(x)\\mathrm{d} x = \\sum w_if(x_i)$$\n",
    "where $(x_i, w_i) \\in\\left\\{(0,32/45), (\\pm\\sqrt{3/7}, 49/90), (\\pm 1, 1/10)\\right\\}$. Use this rule to compute the integrals on each interval $[jh, (j+1)h]$ as before with the left endpoint and midpoint methods."
   ]
  },
  {
   "cell_type": "code",
   "execution_count": null,
   "id": "c28e5878-de15-4259-a4dd-a67e4b1777b1",
   "metadata": {},
   "outputs": [],
   "source": []
  }
 ],
 "metadata": {
  "kernelspec": {
   "display_name": "Julia 1.9.2",
   "language": "julia",
   "name": "julia-1.9"
  },
  "language_info": {
   "file_extension": ".jl",
   "mimetype": "application/julia",
   "name": "julia",
   "version": "1.9.2"
  }
 },
 "nbformat": 4,
 "nbformat_minor": 5
}
