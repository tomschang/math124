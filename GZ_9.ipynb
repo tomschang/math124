{
 "cells": [
  {
   "cell_type": "markdown",
   "metadata": {},
   "source": [
    "# Dijkstra's Algorithm!\n",
    "\n",
    "Today, we'll explore and implement Dijkstra's algorithm, which is similar to BFS but used for weighted graphs. A weighted graph is a graph where each edge has an associated distance (or cost). Dijkstra's Algorithm finds the shortest path between two nodes.\n",
    "\n",
    "## Recap of Graph Basics\n",
    "\n",
    "Recall from the lecture notes some of the data structures we use for graphs. We stored graphs as **adjacency lists**, where each vertex contained a list of the vertices it was connected to."
   ]
  },
  {
   "cell_type": "code",
   "execution_count": 1,
   "metadata": {},
   "outputs": [],
   "source": [
    "struct Vertex\n",
    "    neighbors::Vector{Int}       # Indices of neighbors of this Vertex \n",
    "    coordinates::Vector{Float64} # 2D coordinates of this Vertex - only for plotting\n",
    "    Vertex(neighbors; coordinates=[0,0]) = new(neighbors, coordinates)\n",
    "end\n",
    "\n",
    "function Base.show(io::IO, v::Vertex)\n",
    "    print(io, \"Neighbors = \", v.neighbors)\n",
    "end"
   ]
  },
  {
   "cell_type": "code",
   "execution_count": 2,
   "metadata": {},
   "outputs": [],
   "source": [
    "struct Graph\n",
    "    vertices::Vector{Vertex}\n",
    "end\n",
    "\n",
    "function Base.show(io::IO, g::Graph)\n",
    "    for i = 1:length(g.vertices)\n",
    "        println(io, \"Vertex $i, \", g.vertices[i])\n",
    "    end\n",
    "end"
   ]
  },
  {
   "cell_type": "code",
   "execution_count": 3,
   "metadata": {},
   "outputs": [
    {
     "data": {
      "text/plain": [
       "Vertex 1, Neighbors = [4]\n",
       "Vertex 2, Neighbors = [1, 4]\n",
       "Vertex 3, Neighbors = Int64[]\n",
       "Vertex 4, Neighbors = [2]\n"
      ]
     },
     "execution_count": 3,
     "metadata": {},
     "output_type": "execute_result"
    }
   ],
   "source": [
    "# Example Graph\n",
    "v1 = Vertex([4], coordinates=[1,0.5])\n",
    "v2 = Vertex([1,4], coordinates=[0,2])\n",
    "v3 = Vertex([], coordinates=[-1,1])\n",
    "v4 = Vertex([2], coordinates=[2,2])\n",
    "g = Graph([v1,v2,v3,v4])"
   ]
  },
  {
   "cell_type": "markdown",
   "metadata": {},
   "source": [
    "## Recap of Breadth-First Search\n",
    "\n",
    "The code below will simply traverse a graph using BFS."
   ]
  },
  {
   "cell_type": "code",
   "execution_count": 4,
   "metadata": {},
   "outputs": [
    {
     "data": {
      "text/plain": [
       "bfs (generic function with 1 method)"
      ]
     },
     "execution_count": 4,
     "metadata": {},
     "output_type": "execute_result"
    }
   ],
   "source": [
    "function bfs(g::Graph, start)\n",
    "    visited = falses(length(g.vertices))\n",
    "    S = [start]\n",
    "    visited[start] = true\n",
    "    while !isempty(S)\n",
    "        ivertex = popfirst!(S)\n",
    "        println(\"Visiting vertex #$ivertex\")\n",
    "        for nb in g.vertices[ivertex].neighbors\n",
    "            if !visited[nb]\n",
    "                visited[nb] = true\n",
    "                push!(S, nb)\n",
    "            end\n",
    "        end\n",
    "    end\n",
    "end"
   ]
  },
  {
   "cell_type": "markdown",
   "metadata": {},
   "source": [
    "The slightly modified code below uses BFS to find the shortest path between `start` and `finish`."
   ]
  },
  {
   "cell_type": "code",
   "execution_count": 5,
   "metadata": {},
   "outputs": [
    {
     "data": {
      "text/plain": [
       "shortest_path_bfs (generic function with 1 method)"
      ]
     },
     "execution_count": 5,
     "metadata": {},
     "output_type": "execute_result"
    }
   ],
   "source": [
    "function shortest_path_bfs(g::Graph, start, finish)\n",
    "    parent = zeros(Int64, length(g.vertices))\n",
    "    S = [start]\n",
    "    parent[start] = start\n",
    "    while !isempty(S)\n",
    "        ivertex = popfirst!(S)\n",
    "        if ivertex == finish\n",
    "            break\n",
    "        end\n",
    "        for nb in g.vertices[ivertex].neighbors\n",
    "            if parent[nb] == 0 # Not visited yet\n",
    "                parent[nb] = ivertex\n",
    "                push!(S, nb)\n",
    "            end\n",
    "        end\n",
    "    end\n",
    "    # Build path\n",
    "    path = Int64[]\n",
    "    iv = finish\n",
    "    while true\n",
    "        pushfirst!(path, iv)\n",
    "        if iv == start\n",
    "            break\n",
    "        end\n",
    "        iv = parent[iv]\n",
    "    end\n",
    "    return path\n",
    "end"
   ]
  },
  {
   "cell_type": "code",
   "execution_count": 11,
   "metadata": {},
   "outputs": [
    {
     "data": {
      "text/plain": [
       "3-element Vector{Int64}:\n",
       " 1\n",
       " 4\n",
       " 2"
      ]
     },
     "execution_count": 11,
     "metadata": {},
     "output_type": "execute_result"
    }
   ],
   "source": [
    "shortest_path_bfs(g, 1, 2)"
   ]
  },
  {
   "cell_type": "markdown",
   "metadata": {},
   "source": [
    "## Exercises\n",
    "\n",
    "1) Read the Introduction, Algorithm, and Pseudocode sections of the [Wikipedia page on Dijkstra's Algorithm](https://en.wikipedia.org/wiki/Dijkstra%27s_algorithm). Make sure you understand what the algorithm is doing. Discuss with your group how it is different than BFS as described above.\n",
    "\n",
    "2) Since Dijkstra's algorithm is implemented on a weighted graph, we'll need to modify the data structure we use for our graph. Modify the `Vertex` struct above to include information for the weights (or distances) associated with each of the vertex's neighbors. Modify the `show` function for Graphs and Vertexs as well to help you debug."
   ]
  },
  {
   "cell_type": "code",
   "execution_count": null,
   "metadata": {},
   "outputs": [],
   "source": [
    "struct Vertex\n",
    "    # Fill in\n",
    "end\n",
    "\n",
    "function Base.show(io::IO, v::Vertex)\n",
    "    # Fill in\n",
    "end\n",
    "\n",
    "function Base.show(io::IO, g::Graph)\n",
    "    # fill in\n",
    "end"
   ]
  },
  {
   "cell_type": "markdown",
   "metadata": {},
   "source": [
    "3) Recreate the graph from the top of the Wikipedia page. Call it `G`."
   ]
  },
  {
   "cell_type": "code",
   "execution_count": null,
   "metadata": {},
   "outputs": [],
   "source": []
  },
  {
   "cell_type": "markdown",
   "metadata": {},
   "source": [
    "4) Implement Dijkstra's Algorithm. Your function should return both the shortest path and the length of the path."
   ]
  },
  {
   "cell_type": "code",
   "execution_count": null,
   "metadata": {},
   "outputs": [],
   "source": [
    "function shortest_path_dijkstra(g::Graph, start, finish)\n",
    "    # fill in\n",
    "end"
   ]
  },
  {
   "cell_type": "markdown",
   "metadata": {},
   "source": [
    "5) Run your code on your example graph `G` starting at vertex 1 and ending at vertex 5 to make sure you get the expected output."
   ]
  },
  {
   "cell_type": "markdown",
   "metadata": {},
   "source": []
  }
 ],
 "metadata": {
  "kernelspec": {
   "display_name": "Julia 1.9.2",
   "language": "julia",
   "name": "julia-1.9"
  },
  "language_info": {
   "file_extension": ".jl",
   "mimetype": "application/julia",
   "name": "julia",
   "version": "1.9.2"
  }
 },
 "nbformat": 4,
 "nbformat_minor": 4
}
