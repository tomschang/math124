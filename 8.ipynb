{
 "cells": [
  {
   "cell_type": "markdown",
   "id": "7a6fb570-8162-4e9e-9c2a-343d389147da",
   "metadata": {},
   "source": [
    "# Solving ODEs\n",
    "\n",
    "We will practice solving ODEs and also learn about \"numerical stability!\" \n",
    "\n",
    "Recall that an ODE is defined by \n",
    "$$ x' = f(x, t) $$\n",
    "where we are looking for a solution $x:\\mathbb R\\to \\mathbb R^n$ that is a vector-valued function. Let's implement a couple of methods.\n",
    "\n",
    "### Euler's method \n",
    "This method solves for $x(t_n+h)$ by defining $$x_{n+1} = x_n + hf(x_n, t_n).$$ \n",
    "Implement this method if you would like the practice, or find it in the course textbook. The output should be the entire solution trajectory."
   ]
  },
  {
   "cell_type": "code",
   "execution_count": null,
   "id": "5fb6412f-9c07-4b45-b0d0-b93f3727dc48",
   "metadata": {},
   "outputs": [],
   "source": [
    "function euler(f, x0, T, N)\n",
    "\n",
    "end"
   ]
  },
  {
   "cell_type": "markdown",
   "id": "2188fadc-b9f4-4ea5-a719-c3835226c68b",
   "metadata": {},
   "source": [
    "### (Simple) implicit Euler\n",
    "This method solves for $x(t_n+h)$ by defining\n",
    "$$ x_{n+1} = x_n + hf(x_{n+1}, t_{n+1}). $$\n",
    "Implement this method for functions of the form $f(x,t) = A(t) x$ where $A$ is some matrix depending on $t$."
   ]
  },
  {
   "cell_type": "code",
   "execution_count": null,
   "id": "e4a8a4f0-1c3c-403e-b2e0-3659382e3279",
   "metadata": {},
   "outputs": [],
   "source": [
    "function implicit_euler_linear(A, x0, T, N)\n",
    "\n",
    "end"
   ]
  },
  {
   "cell_type": "markdown",
   "id": "1401b321-b931-44d9-8326-f6a1be6c8dae",
   "metadata": {},
   "source": [
    "### Comparison\n",
    "Use both methods to solve the differential equation $f(x) = -15 x$ with $x(0) = 1$ up to time $t=1$. Plot your solution trajectories. What happens to Euler's method? How about implicit Euler? How large does $N$ need to be for your solution to \"look\" good?"
   ]
  },
  {
   "cell_type": "code",
   "execution_count": null,
   "id": "6b06df98-fac7-4948-a825-156e0f870e74",
   "metadata": {},
   "outputs": [],
   "source": []
  },
  {
   "cell_type": "markdown",
   "id": "1912b30d-5bb7-4b11-aebf-f69ba22e86f1",
   "metadata": {},
   "source": [
    "### General implicit Euler\n",
    "Finally, let's make implicit Euler work for any $f$. We will do this by solving for a fixed point. In particular, to solve \n",
    "$$ x_{n+1} = x_n + hf(x_{n+1}, t_{n+1})$$\n",
    "we can consider the map \n",
    "$$F(z) = x_n+hf(z,t_{n+1})$$ \n",
    "and look for the fixed point $z^*$ satisfying $z^*=F(z^*)$ (convince yourself this makes sense). A common way to find fixed points is to simply iterate until two successive point are close to each other. In particular, we can pick $z_0=x_n$ and define $z_{n+1} = F(z_n)$. We can say we have found $z^*$ when $|z_{n+1}-z_n|\\leq \\texttt{tol}$. It turns out this strategy is guaranteed to work for sufficiently small $h$. Implement the function that implements this method for solving a (nonlinear) equation."
   ]
  },
  {
   "cell_type": "code",
   "execution_count": null,
   "id": "7761d909-14e6-4d5e-8bad-8cb5ce99c929",
   "metadata": {},
   "outputs": [],
   "source": [
    "function fixed_point(F, x0, tol)\n",
    "\n",
    "end"
   ]
  },
  {
   "cell_type": "markdown",
   "id": "4dd414ae-f4aa-4678-8728-adf8853ad60e",
   "metadata": {},
   "source": [
    "Now, use this function to make implicit Euler work for general $f$, just like explicit Euler."
   ]
  },
  {
   "cell_type": "code",
   "execution_count": null,
   "id": "1803ac9e-d19a-4b8f-8371-7f63ef44bc0f",
   "metadata": {},
   "outputs": [],
   "source": [
    "function implicit_euler(f, x0, T, N)\n",
    "\n",
    "end"
   ]
  },
  {
   "cell_type": "markdown",
   "id": "c00b40f1-209f-4e42-9371-06e1e1609d67",
   "metadata": {},
   "source": [
    "### Comparison 2\n",
    "Now, compare Euler's method and implicit Euler for the equation\n",
    "$$x' = a(cos(t)-x)$$\n",
    "where $a=10$ up to time $2\\pi$. Which method works better? What does the solution look like?"
   ]
  },
  {
   "cell_type": "code",
   "execution_count": null,
   "id": "53e82cf2-ace9-45f9-84c6-a6a0f066a688",
   "metadata": {},
   "outputs": [],
   "source": []
  }
 ],
 "metadata": {
  "kernelspec": {
   "display_name": "Julia 1.9.2",
   "language": "julia",
   "name": "julia-1.9"
  },
  "language_info": {
   "file_extension": ".jl",
   "mimetype": "application/julia",
   "name": "julia",
   "version": "1.9.2"
  }
 },
 "nbformat": 4,
 "nbformat_minor": 5
}
