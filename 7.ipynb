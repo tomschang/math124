{
 "cells": [
  {
   "cell_type": "markdown",
   "id": "f1fd9bf3-cc48-48a7-99e6-226c0f25534a",
   "metadata": {},
   "source": [
    "# Runtime Exercises\n",
    "\n",
    "Suppose you have a _sorted_ list. Write down two algorithms for finding whether the element $x$ is in the list or not in 2 ways:\n",
    "\n",
    "1. Loop through the list.\n",
    "2. Using a divide-and-conquer algorithm.\n",
    "\n",
    "Then, analyze the runtimes of both of your algorithms.\n",
    "\n",
    "Bonus: if your list was _unsorted_, could you beat the runtime of strategy (1)?"
   ]
  },
  {
   "cell_type": "markdown",
   "id": "645dc404-1930-4a11-bc8b-e8cb55c96c1c",
   "metadata": {},
   "source": [
    "# Geometry Exercises\n",
    "\n",
    "### Intersections of linear spaces\n",
    "For this problem, you should work with only rational numbers.\n",
    "\n",
    "We can define subspaces of $\\mathbb{R}^n$ that pass through the origin in two ways:\n",
    "1. By a basis/set of spanning vectors (there should be $m$ such vectors for an $m$-dimensional subspace).\n",
    "2. By a set of equations of the form $0=\\sum_{i=1}^n a_ix_i$ (there should be $n-m$ such equations for an $m$-dimensional subspace).\n",
    "\n",
    "First, work in $\\mathbb{R}^3$. Code two functions that convert the description of a plane between (1) and (2). Do the same for lines. \n",
    "\n",
    "Second, given two planes passing through the origin, find the vector description of the line in the intersection of the two planes (or, if both planes are the same, throw an error saying that the planes are identical).\n",
    "\n",
    "Third, generalize your code to $\\mathbb{R}^n$ and such that it can find the dimension of subspace and give the vector description of the subspace in the intersection between any collection of other subspaces.\n",
    "\n",
    "### Splitting subspace\n",
    "Consider a point cloud (i.e. a set of points) in the plane.\n",
    "\n",
    "1. Given a direction/slope of a line, find where to place that line (i.e. find the equation of the line with that slope) that splits your point cloud exactly in half.\n",
    "2. Find two lines that split your point cloud into quarters.\n",
    "3. Generalize. Given a point cloud in $\\mathbb{R}^n$, and a description of an ($n-1$ dimensional) hyperplane (i.e. the coefficients $a_i$ from (2) in the \"Intersections of linear spaces\" problem), find the hyperplane (that doesn't necessarily pass through the origin) that splits the point cloud in half.\n",
    "\n"
   ]
  },
  {
   "cell_type": "code",
   "execution_count": 5,
   "id": "e266927c-0a46-4f5f-857d-d4cf0afc6aa6",
   "metadata": {},
   "outputs": [],
   "source": [
    "using LinearAlgebra"
   ]
  },
  {
   "cell_type": "code",
   "execution_count": 14,
   "id": "6bb7dbf8-4aee-4068-a7ac-d57e76917366",
   "metadata": {},
   "outputs": [
    {
     "data": {
      "text/plain": [
       "median (generic function with 1 method)"
      ]
     },
     "execution_count": 14,
     "metadata": {},
     "output_type": "execute_result"
    }
   ],
   "source": [
    "function median(list)\n",
    "    sort!(list)\n",
    "    n = length(list)\n",
    "    n_div_2 = n ÷ 2\n",
    "    if mod(n,2) == 0\n",
    "        return (list[n_div_2] + list[n_div_2+1]) / 2\n",
    "    else\n",
    "        return list[n_div_2 + 1]\n",
    "    end\n",
    "end"
   ]
  },
  {
   "cell_type": "code",
   "execution_count": 27,
   "id": "9f337373-42be-44b8-adc5-f7339d7f890f",
   "metadata": {},
   "outputs": [
    {
     "data": {
      "text/plain": [
       "splitting_line (generic function with 1 method)"
      ]
     },
     "execution_count": 27,
     "metadata": {},
     "output_type": "execute_result"
    }
   ],
   "source": [
    "function splitting_line(normal, points)\n",
    "    normal_coords = [dot(point, normal) for point in points]\n",
    "    normal_median = median(normal_coords)\n",
    "    for i in 1:length(normal)\n",
    "        print(normal[i], \"x_\", i, \" + \")\n",
    "    end\n",
    "    print(-normal_median, \" = 0\\n\")\n",
    "    return normal_median\n",
    "end"
   ]
  },
  {
   "cell_type": "code",
   "execution_count": 38,
   "id": "88dbdd6a-d7bc-4e30-8242-bcdcbc8b967a",
   "metadata": {},
   "outputs": [
    {
     "name": "stdout",
     "output_type": "stream",
     "text": [
      "[[9, 1], [12, 14], [19, 8], [11, 19]]\n",
      "1x_1 + 1x_2 + -26.5 = 0\n"
     ]
    },
    {
     "data": {
      "text/plain": [
       "26.5"
      ]
     },
     "execution_count": 38,
     "metadata": {},
     "output_type": "execute_result"
    }
   ],
   "source": [
    "points = [rand(1:20, 2) for i in 1:4]\n",
    "println(points)\n",
    "splitting_line([1, 1], points)"
   ]
  },
  {
   "cell_type": "code",
   "execution_count": null,
   "id": "a1093b75-fd4a-4bd4-8824-fecaf0b1d513",
   "metadata": {},
   "outputs": [],
   "source": []
  }
 ],
 "metadata": {
  "kernelspec": {
   "display_name": "Julia 1.9.2",
   "language": "julia",
   "name": "julia-1.9"
  },
  "language_info": {
   "file_extension": ".jl",
   "mimetype": "application/julia",
   "name": "julia",
   "version": "1.9.2"
  }
 },
 "nbformat": 4,
 "nbformat_minor": 5
}
