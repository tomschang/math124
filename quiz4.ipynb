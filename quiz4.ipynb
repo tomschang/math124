{
 "cells": [
  {
   "cell_type": "markdown",
   "id": "1ea4ac67-a894-41f3-b1e6-d74f6cc98a32",
   "metadata": {},
   "source": [
    "# Quiz 4 (03/20)\n",
    "Name: ___________________"
   ]
  },
  {
   "cell_type": "markdown",
   "id": "a67ffb68-bad4-45a4-8017-735538d73ef2",
   "metadata": {
    "editable": true,
    "slideshow": {
     "slide_type": ""
    },
    "tags": []
   },
   "source": [
    "## Problem 1\n",
    "Suppose we have two functions designed to find the largest element smaller than `x` in a sorted list `list`:"
   ]
  },
  {
   "cell_type": "code",
   "execution_count": null,
   "id": "a7a88b05-9716-4eb0-b149-d077deadaf80",
   "metadata": {},
   "outputs": [],
   "source": [
    "function find_slow(x, list)\n",
    "    # omitted, runs in O(n) time\n",
    "end\n",
    "\n",
    "function find_fast(x, list)\n",
    "    # omitted, runs in O(log n) time\n",
    "end"
   ]
  },
  {
   "cell_type": "markdown",
   "id": "21217251-1401-4cb6-9ed8-6b3f2aaac220",
   "metadata": {},
   "source": [
    "Both of the following functions find the average value in a list that is sorted in increasing order, and then find and return the smallest element in the list that is larger than the average.\n",
    "\n",
    "Assess the runtimes for the two functions. You must justify your response. "
   ]
  },
  {
   "cell_type": "code",
   "execution_count": null,
   "id": "5e98692b-502b-4755-980d-3f9027c0e707",
   "metadata": {},
   "outputs": [],
   "source": [
    "function average_and_find_1(list)\n",
    "    n = 0 \n",
    "    total = 0\n",
    "    for elt in list:\n",
    "        total += elt\n",
    "        n += 1\n",
    "    end\n",
    "    mean = total / n\n",
    "    return find_slow(mean, list)\n",
    "end"
   ]
  },
  {
   "cell_type": "code",
   "execution_count": null,
   "id": "3d33b14a-ab6c-4158-bae4-3ebf79235146",
   "metadata": {},
   "outputs": [],
   "source": [
    "function average_and_find_2(list)\n",
    "    n = 0 \n",
    "    total = 0\n",
    "    for elt in list:\n",
    "        total += elt\n",
    "        n += 1\n",
    "    end\n",
    "    mean = total / n\n",
    "    return find_fast(mean, list)\n",
    "end"
   ]
  },
  {
   "cell_type": "markdown",
   "id": "7a4170d2-1976-4c05-ae8e-e08f108ac4b0",
   "metadata": {},
   "source": [
    "<br><br>"
   ]
  },
  {
   "cell_type": "markdown",
   "id": "57f98b5d-cbba-4295-af26-eabb5f2968a1",
   "metadata": {},
   "source": [
    "## Problem 2\n",
    "Write a Julia function `neighborhood_graph(D, h)` which takes as input an $N\\times 2$ matrix `D`--representing the $(x,y)$ coordinates of points $p_1,\\ldots,p_N$ in the plane--and a positive number `h` and returns the adjacency matrix of the `h`-neighborhhod graph of `D`. In other words, your function should return an $N\\times N$ matrix $A$ such that \n",
    "$$\n",
    "A_{ij} = \\begin{cases}\n",
    "1 & \\text{ if }p_j\\text{ is within a distance of }h\\text{ from }p_i\\\\\n",
    "0 & \\text{otherwise}\n",
    "\\end{cases}\n",
    "$$\n",
    "We do not count a point as being close to itself (i.e. it does not count as one of the neighbors)."
   ]
  },
  {
   "cell_type": "code",
   "execution_count": null,
   "id": "1dcae104-702e-45bd-854b-a809bffdcca3",
   "metadata": {},
   "outputs": [],
   "source": [
    "function neighborhood_graph(D, h)"
   ]
  }
 ],
 "metadata": {
  "kernelspec": {
   "display_name": "Julia 1.9.2",
   "language": "julia",
   "name": "julia-1.9"
  },
  "language_info": {
   "file_extension": ".jl",
   "mimetype": "application/julia",
   "name": "julia",
   "version": "1.9.2"
  }
 },
 "nbformat": 4,
 "nbformat_minor": 5
}
