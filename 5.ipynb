{
 "cells": [
  {
   "cell_type": "markdown",
   "metadata": {},
   "source": [
    "# Recursion\n",
    "When a function calls itself!"
   ]
  },
  {
   "cell_type": "code",
   "execution_count": 1,
   "metadata": {},
   "outputs": [
    {
     "data": {
      "text/plain": [
       "recursive_factorial (generic function with 1 method)"
      ]
     },
     "execution_count": 1,
     "metadata": {},
     "output_type": "execute_result"
    }
   ],
   "source": [
    "function recursive_factorial(n) \n",
    "    if n == 0 # we call this the base case --- always make sure you have one!\n",
    "        return 1\n",
    "    else\n",
    "        println(\"computing \", n, \"!...\")\n",
    "        x = n*recursive_factorial(n-1)\n",
    "        println(n, \"! = \", x)\n",
    "        return x\n",
    "    end\n",
    "end"
   ]
  },
  {
   "cell_type": "code",
   "execution_count": 17,
   "metadata": {},
   "outputs": [
    {
     "name": "stdout",
     "output_type": "stream",
     "text": [
      "computing 7!...\n",
      "computing 6!...\n",
      "computing 5!...\n",
      "computing 4!...\n",
      "computing 3!...\n",
      "computing 2!...\n",
      "computing 1!...\n",
      "1! = 1\n",
      "2! = 2\n",
      "3! = 6\n",
      "4! = 24\n",
      "5! = 120\n",
      "6! = 720\n",
      "7! = 5040\n"
     ]
    },
    {
     "data": {
      "text/plain": [
       "5040"
      ]
     },
     "metadata": {},
     "output_type": "display_data"
    }
   ],
   "source": [
    "recursive_factorial(7)"
   ]
  },
  {
   "cell_type": "markdown",
   "metadata": {},
   "source": [
    "Remember loop invariants? All recursive algorithms can also be written as loops, so there is a similarity in how we might design a good recursive algorithm and how we design a good loop. Most important are the \"loop invariant\" or \"induction assumption\" and the \"exit condition\" or \"base case\". However, there are times when some algorithms are more intuitive/efficient as one or the other. (Exercise: figure out why the Fibonacci sequence is better implemented as a loop than as a recursive algorithm)"
   ]
  },
  {
   "cell_type": "code",
   "execution_count": 34,
   "metadata": {},
   "outputs": [
    {
     "data": {
      "text/plain": [
       "sort"
      ]
     },
     "execution_count": 34,
     "metadata": {},
     "output_type": "execute_result"
    }
   ],
   "source": [
    "\"\"\"\n",
    "Places the number x into v so that the output vector is in increasing order. Assumes \n",
    "v is already sorted in increasing order. Assumes v is not empty.\n",
    "\"\"\"\n",
    "function insert_into_sorted(x, v)\n",
    "    idx = 1\n",
    "    n = length(v)\n",
    "    while idx <= n && x > v[idx]\n",
    "        idx += 1\n",
    "    end\n",
    "    return [v[1:idx-1]; x; v[idx:end]]\n",
    "end\n",
    "\n",
    "\"\"\"\n",
    "Sorts a vector into ascending order.\n",
    "\"\"\"\n",
    "function sort(v)\n",
    "    # base case: vector with 1 elt (any vector of length 1 is already sorted)\n",
    "    if length(v) == 1\n",
    "        return v\n",
    "    end\n",
    "\n",
    "    # induction assumption: we know how to sort a vector (see this function's description!)\n",
    "    #       important - we reduce the problem to a shorter vector this time (progress)\n",
    "    w = sort(v[1:end-1])\n",
    "\n",
    "    # use the induction asssumption to solve this problem\n",
    "    x = v[end]\n",
    "    return insert_into_sorted(x, w)\n",
    "end"
   ]
  },
  {
   "cell_type": "code",
   "execution_count": 35,
   "metadata": {},
   "outputs": [
    {
     "data": {
      "text/plain": [
       "10-element Vector{Int64}:\n",
       "  2\n",
       "  6\n",
       "  8\n",
       "  8\n",
       "  9\n",
       " 10\n",
       " 11\n",
       " 12\n",
       " 14\n",
       " 14"
      ]
     },
     "execution_count": 35,
     "metadata": {},
     "output_type": "execute_result"
    }
   ],
   "source": [
    "sort(rand(1:15, 10))"
   ]
  },
  {
   "cell_type": "markdown",
   "metadata": {},
   "source": [
    "# Exercises\n",
    "## Insertion Sort\n",
    "Re-implement insertion sort, but this time use a for loop. What is a good loop invariant?\n",
    "## Binary Search\n",
    "Given a value and an array of values in sorted order, write a divide-and-conquer algorithm to find the index of the value in the array, if it exists, or state that it does not appear in the array.\n",
    "## 0-1 Knapsack Problem\n",
    "Suppose I have a bunch of items, each with a value and a weight, and I want to pack as many of them as I can into a knapsack with a finite weight capacity so that I maximize the total value of the items in the knapsack. Write a recursive function which--given a list of values, a list of weights, and a capacity--returns the maximum value that I can fit in my knapsack. Hint: consider the two subproblems induced by whether or not I choose to pack the next item. Bonus: also return the indices of the items I should choose to pack."
   ]
  },
  {
   "cell_type": "code",
   "execution_count": 28,
   "metadata": {},
   "outputs": [
    {
     "data": {
      "text/plain": [
       "binary_search"
      ]
     },
     "execution_count": 28,
     "metadata": {},
     "output_type": "execute_result"
    }
   ],
   "source": [
    "using Printf\n",
    "\"\"\"\n",
    "finds the index of element x in array v, assuming x is in v\n",
    "\"\"\"\n",
    "function binary_search(x, v)\n",
    "    if length(v) == 1\n",
    "        if v[1] == x\n",
    "            return 1\n",
    "        end\n",
    "        throw(ErrorException(@sprintf(\"%f is not found in the vector\", x)))\n",
    "    end\n",
    "    middle_index = length(v) ÷ 2\n",
    "    middle_value = v[middle_index]\n",
    "    if x <= middle_value\n",
    "        return binary_search(x, v[1:middle_index])\n",
    "    else \n",
    "        return middle_index + binary_search(x,v[middle_index+1:end])\n",
    "    end\n",
    "end"
   ]
  },
  {
   "cell_type": "code",
   "execution_count": 31,
   "metadata": {},
   "outputs": [
    {
     "ename": "LoadError",
     "evalue": "1.000000 is not found in the vector",
     "output_type": "error",
     "traceback": [
      "1.000000 is not found in the vector",
      "",
      "Stacktrace:",
      " [1] binary_search(x::Int64, v::Vector{Int64})",
      "   @ Main ./In[28]:10",
      " [2] binary_search(x::Int64, v::Vector{Int64})",
      "   @ Main ./In[28]:15",
      " [3] binary_search(x::Int64, v::Vector{Int64})",
      "   @ Main ./In[28]:17",
      " [4] top-level scope",
      "   @ In[31]:1"
     ]
    }
   ],
   "source": [
    "binary_search(1,[-1,2,3])"
   ]
  },
  {
   "cell_type": "code",
   "execution_count": null,
   "metadata": {},
   "outputs": [],
   "source": []
  }
 ],
 "metadata": {
  "kernelspec": {
   "display_name": "Julia 1.9.2",
   "language": "julia",
   "name": "julia-1.9"
  },
  "language_info": {
   "file_extension": ".jl",
   "mimetype": "application/julia",
   "name": "julia",
   "version": "1.9.2"
  }
 },
 "nbformat": 4,
 "nbformat_minor": 4
}
