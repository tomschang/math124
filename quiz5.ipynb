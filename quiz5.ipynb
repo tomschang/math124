{
 "cells": [
  {
   "cell_type": "markdown",
   "id": "8c841997-3724-4b91-b1a6-3c53962ce8fc",
   "metadata": {},
   "source": [
    "# Quiz 5 (04/10)\n",
    "Name: ___________________"
   ]
  },
  {
   "cell_type": "markdown",
   "id": "1519834f-4d1f-4b83-8fb3-d7dcaef80dd4",
   "metadata": {},
   "source": [
    "### Trig Polynomials\n",
    "Trigonometric polynomials are functions of the form $f(x)=\\sum_{n=-N}^N a_ne^{inx}$. We can think of these as functions on the interval $[0,2\\pi]$, since they are $2\\pi$-periodic. The set $\\mathcal{F}$ of all these functions has a natural inner product:\n",
    "$$\\langle f, g\\rangle = \\frac{1}{2\\pi}\\int_0^{2\\pi} f(x)g(x)\\,\\mathrm{d}x.$$\n",
    "\n",
    "1. Write a struct to represent trigonometric polynomials. Explain what you chose to do/why.\n",
    "2. Write a function to compute the inner product of two trigonometric polynomials (i.e. takes two inputs of the struct you defined in part (1))."
   ]
  },
  {
   "cell_type": "markdown",
   "id": "3a13b49a-46bd-44db-b444-1c2cd8fa1f0b",
   "metadata": {},
   "source": [
    "<br><br><br><br><br>"
   ]
  },
  {
   "cell_type": "markdown",
   "id": "b109264b-a01f-42f0-b974-504a81abb21d",
   "metadata": {},
   "source": [
    "### Shooting Method\n",
    "Consider the infection-modelling system of ODEs ($S$ means susceptible, $I$ means infected, $R$ means recovered/immunized).\n",
    "$$\\frac{dS}{dt} = -\\frac{\\beta IS}{N} \\qquad \\frac{dI}{dt}=\\frac{\\beta IS}{N}-\\gamma I \\qquad \\frac{dR}{dt} = \\gamma I.$$\n",
    "Suppose we are given a task: we must start with $I(0) = a$ and $S(0) + R(0) = b$ and we must choose the smallest number of people to immunize $r=R(0)$ such that at time $10$, $I(10)\\leq a/2$. We are given Euler's method (which solves $x' = f(x,t)$ given $x(0)=x_0$ using a time step $h$ that is determined by the algorithm). You may assume that Euler's method gives results accurate to $\\pm 0.0001$.\n",
    "\n",
    "Write a function `find_initial(a, b)` that takes in the initial number of infected people `a` and the total number of remaining people `b` and finds the smallest $R\\geq 0$ so that the true initial condition $r$ (that guarantees $I(10)= a/2$) lies in the interval $[R-0.02,R+0.02]$. For the constants in the ODE, take $N=a+b, \\beta = 1.4, \\gamma = 1$."
   ]
  },
  {
   "cell_type": "code",
   "execution_count": null,
   "id": "68397f7a-c79e-46a2-83c0-9d0f73233570",
   "metadata": {
    "scrolled": true
   },
   "outputs": [],
   "source": [
    "function euler(f, x0, t, t0=0.0)\n",
    "    # ommitted\n",
    "    # computes x(t) where x' = f(x,t) and x(0)=x0\n",
    "    return x\n",
    "end\n",
    "\n",
    "function find_initial(a, b)"
   ]
  },
  {
   "cell_type": "markdown",
   "id": "a76d08da-1879-42e0-853e-fc313823f890",
   "metadata": {},
   "source": [
    "<br><br><br><br><br><br>"
   ]
  }
 ],
 "metadata": {
  "kernelspec": {
   "display_name": "Julia 1.9.2",
   "language": "julia",
   "name": "julia-1.9"
  },
  "language_info": {
   "file_extension": ".jl",
   "mimetype": "application/julia",
   "name": "julia",
   "version": "1.9.2"
  }
 },
 "nbformat": 4,
 "nbformat_minor": 5
}
