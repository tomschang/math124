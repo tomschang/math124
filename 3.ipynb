{
 "cells": [
  {
   "cell_type": "markdown",
   "id": "76666ca1-e8bd-480d-b6cd-ec1cef6889dd",
   "metadata": {},
   "source": [
    "# Loop Invariants\n"
   ]
  },
  {
   "cell_type": "code",
   "execution_count": null,
   "id": "d8b78fc3-2e0e-4424-8f12-ab2204899db9",
   "metadata": {},
   "outputs": [],
   "source": [
    "\"\"\"\n",
    "Compute the n'th number in the fibonacci sequence \n",
    "a(n) = a(n-1) + a(n-2) given a(0) and a(1)\n",
    "\n",
    "Assumes n ≥ 2\n",
    "\"\"\"\n",
    "function fibonacci(a0, a1, n)\n",
    "    # assumptions (check if you want)\n",
    "    \n",
    "    # initialization\n",
    "    k = 1\n",
    "    aₙ = a1\n",
    "    aₙ₋₁ = a0\n",
    "    \n",
    "    #=\n",
    "        loop invariant:\n",
    "        - aₙ is the k'th number in the sequence\n",
    "        - aₙ₋₁ is the k-1'th number in the sequence\n",
    "    =#\n",
    "    while k ≠ n # termination condition\n",
    "        # progress\n",
    "        k += 1\n",
    "        # fix loop invariant\n",
    "        aₙ₊₁ = aₙ + aₙ₋₁\n",
    "        aₙ₋₁ = aₙ\n",
    "        aₙ = aₙ₊₁\n",
    "    end\n",
    "    \n",
    "    return aₙ\n",
    "end"
   ]
  },
  {
   "cell_type": "markdown",
   "id": "0877289b-846d-4d0a-bf2a-0283fe8c285c",
   "metadata": {},
   "source": [
    "## Ternary operator"
   ]
  },
  {
   "cell_type": "code",
   "execution_count": 25,
   "id": "0758a879-cc2b-43a9-8d5c-7af0eb628bda",
   "metadata": {},
   "outputs": [
    {
     "data": {
      "text/plain": [
       "\"bye\""
      ]
     },
     "execution_count": 25,
     "metadata": {},
     "output_type": "execute_result"
    }
   ],
   "source": [
    "false ? \"hi\" : \"bye\""
   ]
  },
  {
   "cell_type": "markdown",
   "id": "1c02ec33-1891-495b-9b16-4bbe710092da",
   "metadata": {},
   "source": [
    "# Arrays and Comprehension\n",
    "\n",
    "- operations on arrays \n",
    "- element-wise operations on arrays\n",
    "- list/vector comprehension\n",
    "- array comprehension"
   ]
  },
  {
   "cell_type": "code",
   "execution_count": 31,
   "id": "4e0ddd8f-31aa-4dc6-be0d-acd9e1aab0fb",
   "metadata": {
    "scrolled": true
   },
   "outputs": [
    {
     "data": {
      "text/plain": [
       "2×2 Matrix{Int64}:\n",
       " 10  3\n",
       " 10  3"
      ]
     },
     "execution_count": 31,
     "metadata": {},
     "output_type": "execute_result"
    }
   ],
   "source": [
    "A = [1 2; 3 4]\n",
    "B = [1 1; 3 3]\n",
    "f(x) = mod(x,2) == 0 ? 3 : 10\n",
    "f.(A)"
   ]
  },
  {
   "cell_type": "code",
   "execution_count": 33,
   "id": "522f3a8c-2fa7-4bae-bbed-1ecdc47b540b",
   "metadata": {},
   "outputs": [
    {
     "data": {
      "text/plain": [
       "3-element Vector{Vector{Int64}}:\n",
       " [2, 4, 6, 8, 10, 12, 14, 16, 18, 20, 22, 24]\n",
       " [4, 8, 12, 16, 20, 24, 28, 32, 36, 40, 44, 48]\n",
       " [6, 12, 18, 24, 30, 36, 42, 48, 54, 60, 66, 72]"
      ]
     },
     "execution_count": 33,
     "metadata": {},
     "output_type": "execute_result"
    }
   ],
   "source": [
    "vector = [ [2 * i * j for i in 1:12] for j in 1:3]"
   ]
  },
  {
   "cell_type": "code",
   "execution_count": 37,
   "id": "d078aba5-4ebf-4699-8fd4-d142e41c7361",
   "metadata": {},
   "outputs": [
    {
     "data": {
      "text/plain": [
       "4×5 Matrix{Int64}:\n",
       " 1  2   3   4   5\n",
       " 2  4   6   8  10\n",
       " 3  6   9  12  15\n",
       " 4  8  12  16  20"
      ]
     },
     "execution_count": 37,
     "metadata": {},
     "output_type": "execute_result"
    }
   ],
   "source": [
    "A = [ i * j for i in 1:4, j in 1:5]"
   ]
  },
  {
   "cell_type": "markdown",
   "id": "5c80e2ed-bdd2-4fba-8bd9-93e094306c08",
   "metadata": {},
   "source": [
    "### Exercises\n",
    "\n",
    "1) Write a function that takes in a number `n` and another number `d` and returns a length `n` vector with 1's in every position that is a multiple of `d`\n",
    "2) Write a function that takes in two numbers `n` and `m` and returns an `n`-by-`m` matrix that has 1's in every position where the sum of the indices is even. For example, a 2-by-3 matrix should look like the following. $$\\begin{bmatrix}1 & 0 & 1 \\\\ 0 & 1 & 0 \\end{bmatrix} $$\n",
    "3) Suppose we want to find the best polynomial $p(x) = a_0+a_1x+\\ldots +a_nx^n$ that approximates a function $f$, where the approximation is exact at $n+1$ distinct points, i.e. $p(x)=f(x)$ at the points $(x_0, f(x_0)),\\ldots, (x_n, f(x_n))$. Write a function that takes in two length `n` vectors, one of $x$-values, and the other with the corresponding $f(x)$-values, and outputs the vector of coefficients of the approximating polynomial.\n",
    "4) For problem (3), instead of outputting the coefficients of the approximating polynomial, output a function $p$ that has one input $x$ and returns the value of the approximating polynomial a that point $x$.\n",
    "5) For problem (3), instead of having as input the vector of $x$-values and $f$-values, use as input a function $f$, two endpoints of an interval $[a,b]$, and the degree $n$ of the approximating polynomial."
   ]
  },
  {
   "cell_type": "code",
   "execution_count": 40,
   "id": "b3ac2485-9e01-462e-9525-b37bdbd741e9",
   "metadata": {},
   "outputs": [
    {
     "data": {
      "text/plain": [
       "ones_every_d_v2 (generic function with 1 method)"
      ]
     },
     "execution_count": 40,
     "metadata": {},
     "output_type": "execute_result"
    }
   ],
   "source": [
    "function ones_every_d(n, d)\n",
    "    x = zeros(n)\n",
    "    for i in 1:n\n",
    "        if mod(i, d) == 0\n",
    "            x[i] = 1\n",
    "        end\n",
    "    end\n",
    "    return x\n",
    "end\n",
    "\n",
    "function ones_every_d_v2(n,d)\n",
    "    return [mod(i,d) == 0 ? 1 : 0 for i in 1:n]\n",
    "end"
   ]
  },
  {
   "cell_type": "code",
   "execution_count": 41,
   "id": "2637d97f-d639-4d33-83f5-f5f62f65a474",
   "metadata": {},
   "outputs": [
    {
     "data": {
      "text/plain": [
       "10-element Vector{Int64}:\n",
       " 0\n",
       " 0\n",
       " 1\n",
       " 0\n",
       " 0\n",
       " 1\n",
       " 0\n",
       " 0\n",
       " 1\n",
       " 0"
      ]
     },
     "execution_count": 41,
     "metadata": {},
     "output_type": "execute_result"
    }
   ],
   "source": [
    "ones_every_d_v2(10,3)"
   ]
  },
  {
   "cell_type": "code",
   "execution_count": 43,
   "id": "093efe6c-8766-48c6-be30-37e2cc5942b8",
   "metadata": {},
   "outputs": [
    {
     "data": {
      "text/plain": [
       "eval_f (generic function with 1 method)"
      ]
     },
     "execution_count": 43,
     "metadata": {},
     "output_type": "execute_result"
    }
   ],
   "source": [
    "function eval_f(f, x)\n",
    "    return f(x)\n",
    "end\n"
   ]
  },
  {
   "cell_type": "code",
   "execution_count": 44,
   "id": "12017fe6-1edf-4b8f-a04a-b5aeba23a551",
   "metadata": {},
   "outputs": [
    {
     "data": {
      "text/plain": [
       "0.5403023058681398"
      ]
     },
     "execution_count": 44,
     "metadata": {},
     "output_type": "execute_result"
    }
   ],
   "source": [
    "eval_f(cos, 1)"
   ]
  },
  {
   "cell_type": "code",
   "execution_count": 45,
   "id": "b38ef801-947b-45d1-a56c-805f3f16d475",
   "metadata": {},
   "outputs": [
    {
     "data": {
      "text/plain": [
       "typeof(cos) (singleton type of function cos, subtype of Function)"
      ]
     },
     "execution_count": 45,
     "metadata": {},
     "output_type": "execute_result"
    }
   ],
   "source": [
    "typeof(cos)"
   ]
  },
  {
   "cell_type": "code",
   "execution_count": null,
   "id": "68c075cc-053b-41d6-b6a6-fc5de4b12d40",
   "metadata": {},
   "outputs": [],
   "source": []
  }
 ],
 "metadata": {
  "kernelspec": {
   "display_name": "Julia 1.9.2",
   "language": "julia",
   "name": "julia-1.9"
  },
  "language_info": {
   "file_extension": ".jl",
   "mimetype": "application/julia",
   "name": "julia",
   "version": "1.9.2"
  }
 },
 "nbformat": 4,
 "nbformat_minor": 5
}
